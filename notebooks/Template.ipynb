{
 "cells": [
  {
   "cell_type": "markdown",
   "metadata": {},
   "source": [
    "# Nome do Algoritmo\n",
    "\n",
    "### Introdução \n",
    "\n",
    "Recomendações:\n",
    "\n",
    "- Introduza o algoritmo de forma breve. A introdução deve conter somente texto, sem código\n",
    "- Defina-o formalmente e matematicamente.\n",
    "- Explique os passos necessário para resolver o algoritmo, quando necessário.\n",
    "- Se precisar, use fórmulas $\\LaTeX$\n",
    "- Se possível, insira um pseudo-algoritmo"
   ]
  },
  {
   "cell_type": "markdown",
   "metadata": {},
   "source": [
    "### Dependências"
   ]
  },
  {
   "cell_type": "code",
   "execution_count": null,
   "metadata": {},
   "outputs": [],
   "source": [
    "'''\n",
    "insira aqui todas as dependências necessárias para implementar o algoritmo.\n",
    "Abaixo já estão adicionadas as dependências mais comuns.\n",
    "Evite adicionar muitas dependências. Menos é mais.\n",
    "\n",
    "apague esse comentário.\n",
    "'''\n",
    "\n",
    "import numpy as np\n",
    "import pandas as pd\n",
    "import matplotlib.pyplot as plt\n",
    "\n",
    "%matplotlib inline"
   ]
  },
  {
   "cell_type": "markdown",
   "metadata": {},
   "source": [
    "### Dados"
   ]
  },
  {
   "cell_type": "code",
   "execution_count": null,
   "metadata": {},
   "outputs": [],
   "source": [
    "# carregue seus dados aqui. Use pandas ou numpy. Se possíve, mostre-os."
   ]
  },
  {
   "cell_type": "markdown",
   "metadata": {},
   "source": [
    "### Implementação "
   ]
  },
  {
   "cell_type": "code",
   "execution_count": null,
   "metadata": {},
   "outputs": [],
   "source": [
    "class MyAlgorithm():\n",
    "    def __init__(self):\n",
    "        '''adicione os parâmetros necessários no __init__'''\n",
    "        pass\n",
    "    \n",
    "    def fit(self, x, y):\n",
    "        '''NÃO ALTERE OS PARÂMETROS DO MÉTODO FIT'''\n",
    "        pass\n",
    "        \n",
    "    def predict(self, x):\n",
    "        '''NÃO ALTERE OS PARÂMETROS DO MÉTODO PREDICT'''        \n",
    "        pass"
   ]
  },
  {
   "cell_type": "markdown",
   "metadata": {},
   "source": [
    "### Teste "
   ]
  },
  {
   "cell_type": "code",
   "execution_count": null,
   "metadata": {},
   "outputs": [],
   "source": []
  },
  {
   "cell_type": "markdown",
   "metadata": {},
   "source": [
    "### Comparação com o Scikit-learn"
   ]
  },
  {
   "cell_type": "code",
   "execution_count": null,
   "metadata": {},
   "outputs": [],
   "source": []
  },
  {
   "cell_type": "markdown",
   "metadata": {},
   "source": [
    "### Referências"
   ]
  },
  {
   "cell_type": "markdown",
   "metadata": {},
   "source": [
    "..."
   ]
  }
 ],
 "metadata": {
  "anaconda-cloud": {},
  "kernelspec": {
   "display_name": "Python 3",
   "language": "python",
   "name": "python3"
  },
  "language_info": {
   "codemirror_mode": {
    "name": "ipython",
    "version": 3
   },
   "file_extension": ".py",
   "mimetype": "text/x-python",
   "name": "python",
   "nbconvert_exporter": "python",
   "pygments_lexer": "ipython3",
   "version": "3.7.6"
  },
  "nav_menu": {},
  "toc": {
   "navigate_menu": true,
   "number_sections": true,
   "sideBar": true,
   "threshold": 6,
   "toc_cell": false,
   "toc_section_display": "block",
   "toc_window_display": false
  }
 },
 "nbformat": 4,
 "nbformat_minor": 1
}
